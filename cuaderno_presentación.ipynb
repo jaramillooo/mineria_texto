{
 "cells": [
  {
   "cell_type": "markdown",
   "id": "6b8e9f07",
   "metadata": {},
   "source": [
    "**Axel Jaramillo**\n",
    "# Introducción\n",
    "[wikipedia](https://www.wikipedia.org)\n",
    "![iteso logo](data:image/png;base64,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)"
   ]
  },
  {
   "cell_type": "markdown",
   "id": "f69d2b87",
   "metadata": {},
   "source": [
    "1. primero\n",
    "2. segundo\n",
    "+ item no enumerado\n"
   ]
  },
  {
   "cell_type": "markdown",
   "id": "6abeabec",
   "metadata": {},
   "source": [
    "\n",
    "```\n",
    "import pandas as pd\n",
    "import numpy as np\n",
    "# poner código \n",
    "```"
   ]
  },
  {
   "cell_type": "code",
   "execution_count": null,
   "id": "2a1308db",
   "metadata": {},
   "outputs": [],
   "source": []
  }
 ],
 "metadata": {
  "kernelspec": {
   "display_name": "Python 3 (ipykernel)",
   "language": "python",
   "name": "python3"
  },
  "language_info": {
   "codemirror_mode": {
    "name": "ipython",
    "version": 3
   },
   "file_extension": ".py",
   "mimetype": "text/x-python",
   "name": "python",
   "nbconvert_exporter": "python",
   "pygments_lexer": "ipython3",
   "version": "3.9.13"
  }
 },
 "nbformat": 4,
 "nbformat_minor": 5
}
